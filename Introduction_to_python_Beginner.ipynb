{
  "nbformat": 4,
  "nbformat_minor": 0,
  "metadata": {
    "colab": {
      "name": "Introduction to python_Beginner.ipynb",
      "provenance": [],
      "collapsed_sections": [],
      "include_colab_link": true
    },
    "kernelspec": {
      "display_name": "Python 3",
      "language": "python",
      "name": "python3"
    },
    "language_info": {
      "codemirror_mode": {
        "name": "ipython",
        "version": 3
      },
      "file_extension": ".py",
      "mimetype": "text/x-python",
      "name": "python",
      "nbconvert_exporter": "python",
      "pygments_lexer": "ipython3",
      "version": "3.8.2"
    }
  },
  "cells": [
    {
      "cell_type": "markdown",
      "metadata": {
        "id": "view-in-github",
        "colab_type": "text"
      },
      "source": [
        "<a href=\"https://colab.research.google.com/github/loser564/Password-Generator/blob/main/Introduction_to_python_Beginner.ipynb\" target=\"_parent\"><img src=\"https://colab.research.google.com/assets/colab-badge.svg\" alt=\"Open In Colab\"/></a>"
      ]
    },
    {
      "cell_type": "markdown",
      "metadata": {
        "id": "mSrcnHbFMF8u"
      },
      "source": [
        "# Key Concepts\n",
        "\n",
        "## Data types\n",
        "\n",
        "Python has 4 data types:\n",
        "- Integer (numbers without decimal point) eg: 1, -10\n",
        "- Float (numbers with decimal point) eg: 0.0, -10.0001\n",
        "- String (text with an added quation marks) eg: 'hello' or \"hello\"\n",
        "- Boolean (True or False statements) eg: ``True``, ``False``\n",
        "\n",
        "\n",
        "## Variables\n",
        "\n",
        "Variables are named storage spaces where values stored can be changed while the program is running.\n",
        "Think of it as a container that allows you to change its contents inside. \n",
        "\n",
        "For example, you can place a carrot inside the continer for now but after a minute, you can change its content to water.\n",
        "\n",
        "Assigning a variable is easy, simply type ``=``. \n",
        "This is not to be confused to the '=' in math. In math it refers to equivalence while equivalence in python syntax is ``==`` instead.\n",
        "\n",
        "### Naming of variables\n",
        "\n",
        "In python we need to follow a set of rules on how to name variables.\n",
        "\n",
        "The rules are as follows:\n",
        "- Variables names must start with a letter or an underscore. For example ``_underscore``, ``underscore_``\n",
        "- Variables cannot start with a number\n",
        "- However, the remainder of your variable name may consist of letters, numbers and underscores. For example, ``password1``, ``numb3r``\n",
        "- Variables are case senstive. ``casesensitive``, ``CASESENSITIVE``, and ``Case_Sensitive`` are each a different variable.\n",
        "- Readibility is important. Which of the following is easiest to read? I’m hoping you’ll say the first example.\n",
        "> python_puppet  \n",
        "pythonpuppet  \n",
        "pythonPuppet\n",
        "\n",
        "\n",
        "## Input statements\n",
        "\n",
        "To capture the user's input (ie their answers) we simply type ``input()`` or ``input('<insert a message here>')`` if you would like to add an input prompt. For example:"
      ]
    },
    {
      "cell_type": "code",
      "metadata": {
        "id": "qQ1OgrsIMF8u"
      },
      "source": [
        "number = input('Enter a number from 1 to 10: ')"
      ],
      "execution_count": null,
      "outputs": []
    },
    {
      "cell_type": "markdown",
      "metadata": {
        "id": "gkxfdjjJMF8u"
      },
      "source": [
        "## Basic python operators\n",
        "\n",
        "Python operators are symbols that perform an operation on one or more operands. An operand is a variable or a value on which we perform the operation.  \n",
        "\n",
        "Consider the expression 4 + 5 = 9. Here, 4 and 5 are called operands and + is called operator.  \n",
        "\n",
        "Note that there are various operators used in python and these are just some of the basic operators that we would be using for the number generator game later on.\n",
        "\n",
        "\n",
        "### Arithmetic operators (AKA math operators)\n",
        "\n",
        "| Operator | Function | Example usage | Example Output |\n",
        "| -------- | -------- | ------------- | -------------- |\n",
        "| + | Addition | 3 + 7 | 10 |\n",
        "| - | Subtraction | 3 -7 | -4 |\n",
        "| * | Multiplication | 3 * 7 (3 x 7) | 21 |\n",
        "| / | Division | 11/3 (11 ÷ 3) | 3.6667 |\n",
        "\n",
        "Adapted from: https://libguides.ntu.edu.sg/c.php?g=926424&p=6718038\n",
        "\n",
        "### Comparison operators\n",
        "\n",
        "| Operator | Function | Example usage | Example Output |\n",
        "| -------- | -------- | ------------- | -------------- |\n",
        "| == | Equal | 3 == 4 | False |\n",
        "| != | Not equal | 3!= 4 | True |\n",
        "| > | More than | 7 > 3  | True |\n",
        "| < | Less than | 4 < 7 | True |\n",
        "| <= | Less or equal to | 11 <= 3 | False |\n",
        "| >= | More or equal to | 7 >= 7 | True |\n",
        "\n",
        "These comparison operators return ``True`` or ``False`` if the condition is met.\n",
        "\n",
        "Adapted from: https://www.tutorialspoint.com/python/python_basic_operators.htm"
      ]
    },
    {
      "cell_type": "markdown",
      "metadata": {
        "id": "nMPpQLOqMF8u"
      },
      "source": [
        "## Printing of variables\n",
        "\n",
        "To output the value stored inside the variable simply type ``print(<variable name here>)``\n",
        "\n",
        "For example, let's say we want to add 20 to the variable ``number`` that we just declared just now, we then type:"
      ]
    },
    {
      "cell_type": "code",
      "metadata": {
        "id": "wfHh0Cs-MF8u"
      },
      "source": [
        "number = 100\n",
        "new_number = int(number) + 20\n",
        "\n",
        "# Breaking this down we get:\n",
        "# 1: Add 20 to the value in number\n",
        "# 2: Store it in a variable named new_number\n",
        "\n",
        "print(new_number)"
      ],
      "execution_count": null,
      "outputs": []
    },
    {
      "cell_type": "code",
      "metadata": {
        "id": "pndFxJHwMF8u"
      },
      "source": [
        "# printing of variables with formatting\n",
        "\n",
        "print(\"The number changed from {} to {}\".format(number, new_number))"
      ],
      "execution_count": null,
      "outputs": []
    },
    {
      "cell_type": "markdown",
      "metadata": {
        "id": "X4OMDZkLMF8u"
      },
      "source": [
        "## If - esle statement\n",
        "\n",
        "<img src=\"https://www.learnbyexample.org/wp-content/uploads/python/Python-if-else-Statement-Syntax.png\" height=\"50%\" width=\"60%\">"
      ]
    },
    {
      "cell_type": "code",
      "metadata": {
        "id": "4gF6ClKIMF8v"
      },
      "source": [
        "# Example\n",
        "\n",
        "first_number = 7\n",
        "second_number = 5\n",
        "\n",
        "if first_number > second_number:\n",
        "    print('First number is greater than second number')\n",
        "else:\n",
        "    print('Second number is greater than third number')"
      ],
      "execution_count": null,
      "outputs": []
    },
    {
      "cell_type": "code",
      "metadata": {
        "id": "xR27p6WVMF8v"
      },
      "source": [
        "# Spot the difference!\n",
        "\n",
        "if first_number > second_number:\n",
        "print('First number is greater')\n",
        "else:\n",
        "print('Second number is greater')"
      ],
      "execution_count": null,
      "outputs": []
    },
    {
      "cell_type": "markdown",
      "metadata": {
        "id": "cWpxbIyYMF8v"
      },
      "source": [
        "## If - elif - else statement\n",
        "\n",
        "*For your information*\n",
        "\n",
        "<img src=\"https://www.learnbyexample.org/wp-content/uploads/python/Python-elif-Statement-Syntax.png\" height=\"50%\" width=\"60%\">"
      ]
    },
    {
      "cell_type": "code",
      "metadata": {
        "id": "jgdWSQ6mMF8v"
      },
      "source": [
        "# Example\n",
        "\n",
        "first_number = 7\n",
        "second_number = 5\n",
        "\n",
        "if first_number == second_number:\n",
        "    print('First number is equal to second number')\n",
        "elif number_1 < number_2:\n",
        "    print('Second number is greater than first number')\n",
        "else:\n",
        "    print('First number is greater than second number')"
      ],
      "execution_count": null,
      "outputs": []
    },
    {
      "cell_type": "markdown",
      "metadata": {
        "id": "jB1O5jpsMF8v"
      },
      "source": [
        "## Nested if - else statement"
      ]
    },
    {
      "cell_type": "code",
      "metadata": {
        "id": "mm-zB8vcMF8v"
      },
      "source": [
        "# Example\n",
        "\n",
        "first_number = 7\n",
        "second_number = 5\n",
        "third_number = 4\n",
        "\n",
        "if first_number > second_number:\n",
        "    print(\"First number is greater than second number\")\n",
        "    if first_number > third_number:\n",
        "        print(\"First number is greater than second and third number\")"
      ],
      "execution_count": null,
      "outputs": []
    },
    {
      "cell_type": "markdown",
      "metadata": {
        "id": "SGC91KvmJaVg"
      },
      "source": [
        "## While loop\n",
        "\n",
        "_Note: There are various loops but for now we will only use while loop_\n",
        "\n",
        "<img src=\"https://www.learnbyexample.org/wp-content/uploads/python/Python-while-Loop-Syntax.png\" height=\"50%\" width=\"60%\">"
      ]
    },
    {
      "cell_type": "code",
      "metadata": {
        "id": "4EM5r_zQMF8v"
      },
      "source": [
        "# Example\n",
        "\n",
        "counter = 6\n",
        "while counter > 0:\n",
        "    print(counter)\n",
        "    counter = counter - 1"
      ],
      "execution_count": null,
      "outputs": []
    },
    {
      "cell_type": "markdown",
      "metadata": {
        "id": "WZO_yDufMF8v"
      },
      "source": [
        "Now you know the basics, we shall proceed to the number guessing game!"
      ]
    },
    {
      "cell_type": "markdown",
      "metadata": {
        "id": "oTuRKNz9MF8v"
      },
      "source": [
        "# Number guessing game\n",
        "\n",
        "**Rules:**\n",
        "- The user has 5 tries to guess a number between 0 to 100  "
      ]
    },
    {
      "cell_type": "markdown",
      "metadata": {
        "id": "VthQiP_3MF8v"
      },
      "source": [
        "## Flowchart\n",
        "\n",
        "By **decomposition** (breaking down of problem), we realise that the main problem can be decomposed to 4 smaller sub-problems. Each sub-problem may be distinct or similar to one another.\n",
        "\n",
        "<img src=\"https://github.com/Rea1103/Pyladies/blob/main/number-guess-4.png?raw=true\">"
      ]
    },
    {
      "cell_type": "code",
      "metadata": {
        "id": "aMflb1k9MF8v"
      },
      "source": [
        "import ___ # library that generates random numbers"
      ],
      "execution_count": null,
      "outputs": []
    },
    {
      "cell_type": "code",
      "metadata": {
        "id": "gNy6pB5NMF8v"
      },
      "source": [
        "___\n",
        "___"
      ],
      "execution_count": null,
      "outputs": []
    },
    {
      "cell_type": "code",
      "metadata": {
        "id": "8QqyrcVdMF8v"
      },
      "source": [
        "print(welcome)\n",
        "___"
      ],
      "execution_count": null,
      "outputs": []
    },
    {
      "cell_type": "code",
      "metadata": {
        "id": "FdBgjqArMF8x"
      },
      "source": [
        "if user == 'N': # user doesn't want to play\n",
        "   print('___!')\n",
        "\n",
        "else: #user == 'Y', user wants to play\n",
        "    print(rule)\n",
        "\n",
        "    ___ = ___ # total number of tries is 5\n",
        "    ___ = random.randint(___, ___) # gives us a random number integer\n",
        "    correct = False # default is False because no winner\n",
        "    \n",
        "    while ___:\n",
        "        print() # just prints out a new line for better output distinction\n",
        "        guess = input(\"___\")\n",
        "        guess = ___ # converts our string input to integer\n",
        "    \n",
        "        ___\n",
        "\n",
        "        if ___ == ___: # number is guessed correctly\n",
        "            print(\"Congratulations, you guessed the number!\")\n",
        "            ___\n",
        "            \n",
        "        else:\n",
        "            print(___)\n",
        "            \n",
        "            ___:\n",
        "                    print(___) \n",
        "            ___: # user > number\n",
        "                    print(___)\n",
        "                    \n",
        "            print(___)\n",
        "\n",
        "    # outside the loop\n",
        "    if ___: # user didn't guess correctly       \n",
        "      print(\"You have no more tries left. The number is {}.\".format(___))"
      ],
      "execution_count": null,
      "outputs": []
    },
    {
      "cell_type": "code",
      "metadata": {
        "id": "n8u0x3L4MF8x"
      },
      "source": [
        ""
      ],
      "execution_count": null,
      "outputs": []
    }
  ]
}